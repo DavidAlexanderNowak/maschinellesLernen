{
 "cells": [
  {
   "cell_type": "markdown",
   "metadata": {},
   "source": [
    "# Praktische Übung 1: Pandas"
   ]
  },
  {
   "cell_type": "markdown",
   "metadata": {},
   "source": [
    "## Aufgabe 1"
   ]
  },
  {
   "cell_type": "markdown",
   "metadata": {},
   "source": [
    "1. Laden Sie den Datensatz `automobile.csv` von [GitHub](https://github.com/pabair/ml-kurs-ws22/) aus dem Folder `data` runter.\n",
    "2. Laden Sie die Daten in diesem Notebook in einen Pandas DataFrame"
   ]
  },
  {
   "cell_type": "markdown",
   "metadata": {},
   "source": [
    "3. Schauen Sie sich die Daten an und versuchen Sie zu verstehen was die Daten abbilden."
   ]
  },
  {
   "cell_type": "markdown",
   "metadata": {},
   "source": [
    "4. Geben Sie folgende Daten aus:\n",
    "\n",
    "    1. Eine Liste aller Hersteller.\n",
    "    2. Wie oft welcher „body-style“ im Datensatz vorhanden ist.\n",
    "    3. Die fünf Autos mit dem niedrigsten Preis.\n",
    "    4. Die fünf Autos mit dem höchsten Preis\n",
    "    "
   ]
  },
  {
   "cell_type": "markdown",
   "metadata": {},
   "source": [
    "## Aufgabe 2"
   ]
  },
  {
   "cell_type": "markdown",
   "metadata": {},
   "source": [
    "1. Was ist der durchschnittliche Preis mit Bezug auf den „body-style“ eines Autos?"
   ]
  },
  {
   "cell_type": "markdown",
   "metadata": {},
   "source": [
    "2. Welches sind die drei „body-styles“ mit den durchschnittlich höchsten Preisen?"
   ]
  },
  {
   "cell_type": "markdown",
   "metadata": {},
   "source": [
    "3. Welche Companies stellen „hardtop“ als „body-style“ her?"
   ]
  },
  {
   "cell_type": "markdown",
   "metadata": {},
   "source": [
    "4. Geben Sie alle Autos aus deren Herstellernamen mit \"a\" oder \"b\" beginnt ([Hint](https://pandas.pydata.org/docs/reference/api/pandas.Series.str.startswith.html))."
   ]
  },
  {
   "cell_type": "markdown",
   "metadata": {},
   "source": [
    "5. Erstellen Sie je einen Scatterplot mit:\n",
    "    1. Scatterplot mit `x=\"horsepower\"` und `y=\"average-mileage\"`\n",
    "    2. Scatterplot mit `x=\"horsepower\"` und `y=\"price\"`"
   ]
  },
  {
   "cell_type": "markdown",
   "metadata": {},
   "source": [
    "## Aufgabe 3"
   ]
  },
  {
   "cell_type": "markdown",
   "metadata": {},
   "source": [
    "1. Zusätlich stehen ihnen nachfolgende Informationen zur Verfügung. Erstellen Sie einen zweiten DataFrame, der diese Informationen enthält ([Hint](https://pandas.pydata.org/pandas-docs/stable/reference/api/pandas.DataFrame.html))\n",
    "\n",
    "|company|country|\n",
    "|--- |--- |\n",
    "|alfa-romeo|ITA|\n",
    "|audi|GER|\n",
    "|bmw|GER|\n",
    "|volvo|SWE|\n",
    "|nissan|JAP|\n",
    "|mazda|JAP|"
   ]
  },
  {
   "cell_type": "markdown",
   "metadata": {},
   "source": [
    "\n",
    "2. Verbignden Sie die zwei DataFrames über einen `merge` ([Hint](https://pandas.pydata.org/pandas-docs/stable/reference/api/pandas.DataFrame.merge.html)). Stellen Sie sicher, dass die Datenpunkte welche keine Länderangabe haben nicht verloren gehen."
   ]
  },
  {
   "cell_type": "markdown",
   "metadata": {},
   "source": [
    "3. Geben Sie in einem DataFrame aus, wieviel Fahrzeuge pro Land vorhanden sind und wie hoch der Durchschnittspreis pro Land liegt."
   ]
  },
  {
   "cell_type": "markdown",
   "metadata": {},
   "source": [
    "## Bonus"
   ]
  },
  {
   "cell_type": "markdown",
   "metadata": {},
   "source": [
    "Folgende Aufgaben sind als Bonus gedacht (für diejenigen die mit den vorherigen Aufgaben schon durch sind). Um sie zu lösen muss selbstständig nach den ben¨ptigten Methoden im Internet gesucht werden. \n",
    "1. Entfernen Sie die Spalte „body-styles“ vom DataFrame."
   ]
  },
  {
   "cell_type": "markdown",
   "metadata": {},
   "source": [
    "2. Erstellen Sie einen neuen DataFrame der 10% zufällig ausgewählte Zeilen aus dem ursprünglichen DataFrame enthält."
   ]
  },
  {
   "cell_type": "markdown",
   "metadata": {},
   "source": [
    "3. Fügen Sie die Zeilen des neuen DataFrames an den ursprünglichen DataFrame unten ran."
   ]
  },
  {
   "cell_type": "markdown",
   "metadata": {},
   "source": [
    "4. Zählen Sie die Anzahl doppelter Einträge in diesem DataFrame."
   ]
  }
 ],
 "metadata": {
  "kernelspec": {
   "display_name": "Python 3",
   "language": "python",
   "name": "python3"
  },
  "language_info": {
   "codemirror_mode": {
    "name": "ipython",
    "version": 3
   },
   "file_extension": ".py",
   "mimetype": "text/x-python",
   "name": "python",
   "nbconvert_exporter": "python",
   "pygments_lexer": "ipython3",
   "version": "3.8.5"
  },
  "vscode": {
   "interpreter": {
    "hash": "29f5793556c5c752e57c295414daeb26ac938283f50af760736dec159f1bff02"
   }
  }
 },
 "nbformat": 4,
 "nbformat_minor": 4
}
