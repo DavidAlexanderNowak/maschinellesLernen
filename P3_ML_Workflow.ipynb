{
 "cells": [
  {
   "cell_type": "markdown",
   "metadata": {},
   "source": [
    "# Praktische Übung 3: ML-Workflow"
   ]
  },
  {
   "cell_type": "markdown",
   "metadata": {},
   "source": [
    "## Aufgabe 1"
   ]
  },
  {
   "cell_type": "markdown",
   "metadata": {},
   "source": [
    "1. Laden Sie den Datensatz aus der Datei `titanic.csv` in einen Pandas-DataFrame. Die Datei befindet sich im `/data` Ordner auf GitHub.\n",
    "2. Erstellen Sie einen neuen DataFrame, der nur die folgenden Spalten enthält: `Survived`, `Pclass`, `Age`, `Fare`, `Sibsp`, `Parch`.\n",
    "3. Unterteilen Sie die Daten mit der Methode `train_test_split` in Trainings- und Testdaten (80% Training, 20% Test). Hinweis: Für die ersten drei Aufgaben können Sie den Code der Lösung der letzten Übung kopieren.\n",
    "4. Überprüfen Sie welche Attribute `NaN`-Werte enthalten.\n",
    "5. Füllen Sie diese Werte mit dem Durchschnittswert der übrigen Werte aus der gleichen Spalte auf."
   ]
  },
  {
   "cell_type": "code",
   "execution_count": 39,
   "metadata": {},
   "outputs": [],
   "source": [
    "# load titanic data into dataFrame\n",
    "import pandas\n",
    "\n",
    "fullTitanicData = pandas.read_csv(\"data/titanic.csv\")\n",
    "workingTitanicData = fullTitanicData[[\"Survived\",\"Pclass\",\"Age\",\"Fare\",\"SibSp\",\"Parch\"]]"
   ]
  },
  {
   "cell_type": "code",
   "execution_count": 40,
   "metadata": {},
   "outputs": [],
   "source": [
    "# creating test and training data\n",
    "from sklearn.model_selection import train_test_split\n",
    "featureData = workingTitanicData.drop(\"Survived\", axis=1)\n",
    "labelData = workingTitanicData[\"Survived\"]\n",
    "training_x, testing_x, training_y, testing_y = train_test_split(featureData, labelData, test_size=0.2, random_state=0)"
   ]
  },
  {
   "cell_type": "code",
   "execution_count": 41,
   "metadata": {},
   "outputs": [
    {
     "data": {
      "text/plain": [
       "Pclass      0\n",
       "Age       141\n",
       "Fare        0\n",
       "SibSp       0\n",
       "Parch       0\n",
       "dtype: int64"
      ]
     },
     "execution_count": 41,
     "metadata": {},
     "output_type": "execute_result"
    }
   ],
   "source": [
    "# check attributes for NaN-values\n",
    "training_x.isna().sum()"
   ]
  },
  {
   "cell_type": "code",
   "execution_count": 42,
   "metadata": {},
   "outputs": [],
   "source": [
    "# fill NaN-values with mean of that attribute (age is the only attribute with NaN-values)\n",
    "age_mean = training_x[\"Age\"].mean()\n",
    "training_x[\"Age\"] = training_x[\"Age\"].fillna(age_mean)"
   ]
  },
  {
   "cell_type": "markdown",
   "metadata": {},
   "source": [
    "## Aufgabe 2"
   ]
  },
  {
   "cell_type": "markdown",
   "metadata": {},
   "source": [
    "1. Skalieren Sie die Daten aus `x_train` mit einem `StandardScaler`.\n",
    "2. Trainieren Sie eine logistische Regression auf den skalierten Daten und `y_train`.\n",
    "3. Entfernen Sie alle Datenpunkte mit `NaN`-Werten aus `x_test`.\n",
    "4. Entfernen Sie die genau gleichen Zeilen auch aus `y_test`.\n",
    "5. Skalieren Sie die Datenpunkte `x_test` mit dem gleichen Skalierer wie in Aufgabe 2.\n",
    "6. Machen Sie eine Vorhersage aus den skalierten Testdaten und berechnen Sie Accuracy, Precision und Recall."
   ]
  },
  {
   "cell_type": "code",
   "execution_count": 43,
   "metadata": {},
   "outputs": [],
   "source": [
    "# scale attributes with StandardScaler\n",
    "from sklearn.preprocessing import StandardScaler\n",
    "scaler = StandardScaler().fit(training_x)\n",
    "training_x_scaled = scaler.transform(training_x)"
   ]
  },
  {
   "cell_type": "code",
   "execution_count": 44,
   "metadata": {},
   "outputs": [
    {
     "data": {
      "text/html": [
       "<style>#sk-container-id-4 {color: black;background-color: white;}#sk-container-id-4 pre{padding: 0;}#sk-container-id-4 div.sk-toggleable {background-color: white;}#sk-container-id-4 label.sk-toggleable__label {cursor: pointer;display: block;width: 100%;margin-bottom: 0;padding: 0.3em;box-sizing: border-box;text-align: center;}#sk-container-id-4 label.sk-toggleable__label-arrow:before {content: \"▸\";float: left;margin-right: 0.25em;color: #696969;}#sk-container-id-4 label.sk-toggleable__label-arrow:hover:before {color: black;}#sk-container-id-4 div.sk-estimator:hover label.sk-toggleable__label-arrow:before {color: black;}#sk-container-id-4 div.sk-toggleable__content {max-height: 0;max-width: 0;overflow: hidden;text-align: left;background-color: #f0f8ff;}#sk-container-id-4 div.sk-toggleable__content pre {margin: 0.2em;color: black;border-radius: 0.25em;background-color: #f0f8ff;}#sk-container-id-4 input.sk-toggleable__control:checked~div.sk-toggleable__content {max-height: 200px;max-width: 100%;overflow: auto;}#sk-container-id-4 input.sk-toggleable__control:checked~label.sk-toggleable__label-arrow:before {content: \"▾\";}#sk-container-id-4 div.sk-estimator input.sk-toggleable__control:checked~label.sk-toggleable__label {background-color: #d4ebff;}#sk-container-id-4 div.sk-label input.sk-toggleable__control:checked~label.sk-toggleable__label {background-color: #d4ebff;}#sk-container-id-4 input.sk-hidden--visually {border: 0;clip: rect(1px 1px 1px 1px);clip: rect(1px, 1px, 1px, 1px);height: 1px;margin: -1px;overflow: hidden;padding: 0;position: absolute;width: 1px;}#sk-container-id-4 div.sk-estimator {font-family: monospace;background-color: #f0f8ff;border: 1px dotted black;border-radius: 0.25em;box-sizing: border-box;margin-bottom: 0.5em;}#sk-container-id-4 div.sk-estimator:hover {background-color: #d4ebff;}#sk-container-id-4 div.sk-parallel-item::after {content: \"\";width: 100%;border-bottom: 1px solid gray;flex-grow: 1;}#sk-container-id-4 div.sk-label:hover label.sk-toggleable__label {background-color: #d4ebff;}#sk-container-id-4 div.sk-serial::before {content: \"\";position: absolute;border-left: 1px solid gray;box-sizing: border-box;top: 0;bottom: 0;left: 50%;z-index: 0;}#sk-container-id-4 div.sk-serial {display: flex;flex-direction: column;align-items: center;background-color: white;padding-right: 0.2em;padding-left: 0.2em;position: relative;}#sk-container-id-4 div.sk-item {position: relative;z-index: 1;}#sk-container-id-4 div.sk-parallel {display: flex;align-items: stretch;justify-content: center;background-color: white;position: relative;}#sk-container-id-4 div.sk-item::before, #sk-container-id-4 div.sk-parallel-item::before {content: \"\";position: absolute;border-left: 1px solid gray;box-sizing: border-box;top: 0;bottom: 0;left: 50%;z-index: -1;}#sk-container-id-4 div.sk-parallel-item {display: flex;flex-direction: column;z-index: 1;position: relative;background-color: white;}#sk-container-id-4 div.sk-parallel-item:first-child::after {align-self: flex-end;width: 50%;}#sk-container-id-4 div.sk-parallel-item:last-child::after {align-self: flex-start;width: 50%;}#sk-container-id-4 div.sk-parallel-item:only-child::after {width: 0;}#sk-container-id-4 div.sk-dashed-wrapped {border: 1px dashed gray;margin: 0 0.4em 0.5em 0.4em;box-sizing: border-box;padding-bottom: 0.4em;background-color: white;}#sk-container-id-4 div.sk-label label {font-family: monospace;font-weight: bold;display: inline-block;line-height: 1.2em;}#sk-container-id-4 div.sk-label-container {text-align: center;}#sk-container-id-4 div.sk-container {/* jupyter's `normalize.less` sets `[hidden] { display: none; }` but bootstrap.min.css set `[hidden] { display: none !important; }` so we also need the `!important` here to be able to override the default hidden behavior on the sphinx rendered scikit-learn.org. See: https://github.com/scikit-learn/scikit-learn/issues/21755 */display: inline-block !important;position: relative;}#sk-container-id-4 div.sk-text-repr-fallback {display: none;}</style><div id=\"sk-container-id-4\" class=\"sk-top-container\"><div class=\"sk-text-repr-fallback\"><pre>LogisticRegression(max_iter=1000)</pre><b>In a Jupyter environment, please rerun this cell to show the HTML representation or trust the notebook. <br />On GitHub, the HTML representation is unable to render, please try loading this page with nbviewer.org.</b></div><div class=\"sk-container\" hidden><div class=\"sk-item\"><div class=\"sk-estimator sk-toggleable\"><input class=\"sk-toggleable__control sk-hidden--visually\" id=\"sk-estimator-id-4\" type=\"checkbox\" checked><label for=\"sk-estimator-id-4\" class=\"sk-toggleable__label sk-toggleable__label-arrow\">LogisticRegression</label><div class=\"sk-toggleable__content\"><pre>LogisticRegression(max_iter=1000)</pre></div></div></div></div></div>"
      ],
      "text/plain": [
       "LogisticRegression(max_iter=1000)"
      ]
     },
     "execution_count": 44,
     "metadata": {},
     "output_type": "execute_result"
    }
   ],
   "source": [
    "# train logistical regression\n",
    "from sklearn.linear_model import LogisticRegression\n",
    "logisticRegression = LogisticRegression(max_iter=1000)\n",
    "logisticRegression.fit(training_x_scaled, training_y)"
   ]
  },
  {
   "cell_type": "code",
   "execution_count": 46,
   "metadata": {},
   "outputs": [],
   "source": [
    "# remove NaN data points from testing attributes\n",
    "testing_x = testing_x.dropna()"
   ]
  },
  {
   "cell_type": "code",
   "execution_count": 48,
   "metadata": {},
   "outputs": [],
   "source": [
    "# remove datapoints from testing_y that are not in testing_x\n",
    "testing_y = testing_y[testing_x.index]"
   ]
  },
  {
   "cell_type": "code",
   "execution_count": 49,
   "metadata": {},
   "outputs": [],
   "source": [
    "# scale testing attributes with same scaler that was used on training data\n",
    "testing_x_scaled = scaler.transform(testing_x)"
   ]
  },
  {
   "cell_type": "code",
   "execution_count": 50,
   "metadata": {},
   "outputs": [
    {
     "name": "stdout",
     "output_type": "stream",
     "text": [
      "Accuracy:  0.7272727272727273\n",
      "Precision:  0.75\n",
      "Recall:  0.5084745762711864\n"
     ]
    }
   ],
   "source": [
    "# use logistical regression and calculate performance indicators\n",
    "prediction = logisticRegression.predict(testing_x_scaled)\n",
    "\n",
    "from sklearn.metrics import accuracy_score\n",
    "print(\"Accuracy: \", accuracy_score(testing_y, prediction))\n",
    "\n",
    "from sklearn.metrics import precision_score\n",
    "print(\"Precision: \", precision_score(testing_y, prediction))\n",
    "\n",
    "from sklearn.metrics import recall_score\n",
    "print(\"Recall: \", recall_score(testing_y, prediction))"
   ]
  },
  {
   "cell_type": "markdown",
   "metadata": {},
   "source": [
    "## Aufgabe 3"
   ]
  },
  {
   "cell_type": "markdown",
   "metadata": {},
   "source": [
    "1. Fügen Sie `Embarked` und `Sex` als weitere Feature hinzu.\n",
    "2. Führen Sie ein one-hot-encoding dieser Attribute durch und durchlaufen Sie die Schritte aus Aufgabe 1 und 2, um das Modell mit den Features zu trainieren.\n",
    "3. Vergleichen Sie die Performance des Modells mit und ohne diese Features."
   ]
  },
  {
   "cell_type": "code",
   "execution_count": null,
   "metadata": {},
   "outputs": [],
   "source": [
    "# create dataFrame additionally including \"Sex\" as feature (TODO: include \"Embarked\" feature)\n",
    "workingTitanicData = fullTitanicData[[\"Survived\",\"Pclass\",\"Age\",\"Fare\",\"SibSp\",\"Parch\",\"Sex\"]]\n",
    "\n",
    "# TODO: turn \"Sex\" into two features \"Male\" and \"Female\" with the one-hot-encoding procedure"
   ]
  },
  {
   "cell_type": "markdown",
   "metadata": {},
   "source": [
    "## Bonus"
   ]
  },
  {
   "cell_type": "markdown",
   "metadata": {},
   "source": [
    "Entwerfen Sie ein Feature aus dem Attribut `Cabin` und schauen Sie, ob sich das Modell dadurch verbessert."
   ]
  }
 ],
 "metadata": {
  "kernelspec": {
   "display_name": "Python 3.8.13 ('ml-env')",
   "language": "python",
   "name": "python3"
  },
  "language_info": {
   "codemirror_mode": {
    "name": "ipython",
    "version": 3
   },
   "file_extension": ".py",
   "mimetype": "text/x-python",
   "name": "python",
   "nbconvert_exporter": "python",
   "pygments_lexer": "ipython3",
   "version": "3.8.13"
  },
  "vscode": {
   "interpreter": {
    "hash": "d0348467b511922557a0885378b37db71994bee8d616db5d85b48d66d2191be0"
   }
  }
 },
 "nbformat": 4,
 "nbformat_minor": 2
}
